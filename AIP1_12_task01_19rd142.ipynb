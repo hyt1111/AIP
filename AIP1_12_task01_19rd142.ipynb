{
  "nbformat": 4,
  "nbformat_minor": 0,
  "metadata": {
    "colab": {
      "name": "AIP1_12_task01_19rd142.ipynb ",
      "provenance": [],
      "collapsed_sections": []
    },
    "kernelspec": {
      "name": "python3",
      "display_name": "Python 3"
    }
  },
  "cells": [
    {
      "cell_type": "markdown",
      "metadata": {
        "id": "loITRM43_-CQ"
      },
      "source": [
        "## 各種 API\n",
        "### numpy\n",
        "各種数値計算を高速で行う(中身は C++ライブラリらしい)\n",
        "公式：https://numpy.org/  \n",
        "ただし，日本語でもたくさん解説してくれているサイトがあるので，ググった方が早い場合もある\n",
        "\n",
        "今回のプログラムは class (オブジェクト指向)を使っているので注意．"
      ]
    },
    {
      "cell_type": "code",
      "metadata": {
        "id": "6qPZmH3KlzK-"
      },
      "source": [
        "import random\n",
        "import numpy as np\n",
        "import time\n",
        "from copy import deepcopy as cp\n",
        "\n",
        "%matplotlib inline\n",
        "import matplotlib.pyplot as plt"
      ],
      "execution_count": null,
      "outputs": []
    },
    {
      "cell_type": "markdown",
      "metadata": {
        "id": "yuO72YWSBaif"
      },
      "source": [
        "### バンディットマシーン本体のクラス\n",
        "バンディットマシーン≒スロットマシーン"
      ]
    },
    {
      "cell_type": "code",
      "metadata": {
        "id": "t6_pt6WeEHIg"
      },
      "source": [
        "r\"\"\"指定確率で1/0を返すバンディトマシーン提供モジュール\"\"\"\n",
        "\n",
        "class Bandit(object):\n",
        "    r\"\"\"指定確率で1/0を返すバンディットマシーン Class\n",
        "    \n",
        "    param\n",
        "    -----\n",
        "    prob(float): default:0.5\n",
        "        [0,1]の当たり確率指定値.\n",
        "\n",
        "    attr\n",
        "    ----\n",
        "    _prob(float):\n",
        "        あたり確率\n",
        "    _past(list of int):\n",
        "        報酬系列\n",
        "\n",
        "    \"\"\"\n",
        "    def __init__(self, prob=0.5):\n",
        "        if prob < 0 or prob > 1:\n",
        "            prob = random.random() \n",
        "        self._prob = prob # 当たり確率\n",
        "        self._past = [] # 過去の報酬系列\n",
        "\n",
        "    @property\n",
        "    def prob(self):\n",
        "        \"\"\"現在の設定確率を返す.\"\"\"\n",
        "        return self._prob\n",
        "        \n",
        "    def play(self):\n",
        "        r\"\"\"バンディットマシーンのプレイを行い、当たり/外れで1/0の報酬を返す.\"\"\"\n",
        "        if self._prob > random.random():\n",
        "            self._past.append(1)\n",
        "            return 1\n",
        "        else:\n",
        "            self._past.append(0)\n",
        "            return 0\n",
        "    \n",
        "    def print_average(self):\n",
        "        \"\"\"平均報酬、プレイ回数、真の確率を表示する.\"\"\"\n",
        "        mean = np.mean(self._past) if self._past else 0\n",
        "        num = len(self._past)\n",
        "#         print(f'ave:{mean}, n:{num}, tv:{self._prob}')"
      ],
      "execution_count": null,
      "outputs": []
    },
    {
      "cell_type": "markdown",
      "metadata": {
        "id": "o1nNbXNlBlAT"
      },
      "source": [
        "### バンディットマシーンをプレイするエージェントのクラス\n",
        "探索手法(メタ方策)の関数もここが持っている．  \n",
        "課題では当該の関数を書き換えて方策を適切に実装する．  "
      ]
    },
    {
      "cell_type": "code",
      "metadata": {
        "id": "UYyemfOZEQwH"
      },
      "source": [
        "\"\"\"可能行為を受け取り、ポリシーに従いactionを実行するAgent提供モジュール\"\"\" \n",
        "\n",
        "class Agent(object):\n",
        "    \"\"\"add_actionで可能行為を受け取り、playで行為を選択・実行するAgent Class.\n",
        "    \n",
        "    attr\n",
        "    ----\n",
        "    _list_action(list of function):\n",
        "        可能行為のlist\n",
        "    _reward(list of int):\n",
        "        今迄得た報酬系列\n",
        "    _epsilon(float):\n",
        "        ランダム行動選択率\n",
        "    _Q(np.array(float)):\n",
        "        行動価値\n",
        "    _n(np.array(int)):\n",
        "        行動カウント\n",
        "    \n",
        "    \"\"\"\n",
        "    def __init__(self, policy):\n",
        "        \"\"\"初期化処理\"\"\"\n",
        "        self._list_action = [] # action(スロットマシン)の登録\n",
        "        self._reward = []\n",
        "        self._epsilon = 0.0\n",
        "        self._Q = None\n",
        "        self._n = None\n",
        "\n",
        "# 課題ごとにここを変えて実行\n",
        "        if policy == 'e-greedy':\n",
        "            self.behavior = self._e_greedy\n",
        "        elif policy == 'softmax':\n",
        "            self.behavior = self._softmax   # 課題1    \n",
        "        elif policy == 'ucb1':\n",
        "            self.behavior = self._ucb1  # 課題2\n",
        "        else :\n",
        "            self.behavior = self._greedy\n",
        "\n",
        "\n",
        "    @property\n",
        "    def epsilon(self):\n",
        "        return self._epsilon\n",
        "    \n",
        "    @epsilon.setter\n",
        "    def epsilon(self, eps):\n",
        "        self._epsilon = eps\n",
        "\n",
        "    def reset(self):\n",
        "        \"\"\"エージェントの初期化\"\"\"\n",
        "        # 各action(スロットマシン)の(その trial での agent の)主観的な価値\n",
        "        self._Q = np.zeros((len(self._list_action)))\n",
        "        # 各action(スロットマシン)の(その trial での agent の)試行回数\n",
        "        self._n = np.zeros((len(self._list_action)))\n",
        "      \n",
        "    def _update(self, act, rwd):\n",
        "        \"\"\"行動価値の更新()\"\"\"\n",
        "        self._n[act] += 1\n",
        "        self._Q[act] += (rwd - self._Q[act]) / self._n[act]\n",
        "        \n",
        "    def add_action(self, action):\n",
        "        \"\"\"可能行為を追加する.\"\"\"\n",
        "        self._list_action.append(action)\n",
        "        self._reward.append([])\n",
        "\n",
        "    def play(self, step):\n",
        "        \"\"\"ポリシーに従い、可能行為を選択・実行する\"\"\"\n",
        "        act = self.behavior(step)\n",
        "        rwd = self._list_action[act]()\n",
        "        self._reward[act].append(rwd)\n",
        "        self._update(act, rwd)\n",
        "        \n",
        "        return act, rwd\n",
        "\n",
        "    def _greedy(self, step):\n",
        "        \"\"\"平均報酬が最大である行為をグリーディに選択する.\"\"\"\n",
        "        # 平均報酬が最大である行為のインデックスをリスト\n",
        "        idx = np.where(self._Q == max(self._Q))[0]\n",
        "        #リストしたインデックスを返す,複数ある場合はランダム\n",
        "        select = random.choice(idx)\n",
        "\n",
        "        return select\n",
        "      \n",
        "    def _e_greedy(self, step):\n",
        "        epsilon = 0.1\n",
        "        if random.random() > epsilon:\n",
        "            select = self._greedy(step)\n",
        "        else:\n",
        "            select = random.choice(list(range(len(self._list_action))))\n",
        "\n",
        "        return select\n",
        "\n",
        "    def _softmax(self, step):\n",
        "        # 課題1 はここを正しい物に変える\n",
        "        tau = 0.1 # 温度パラメータ # ヒント\n",
        "        # \"ここに正しい確率を計算するコードを追加\" # ヒント\n",
        "        y = self / step\n",
        "        select = np.random.choice(list(range(len(self._list_action))), p = y)# ヒント\n",
        "        dummy = 0 # 常に 0 番目を引くダミー変数\n",
        "        select = dummy\n",
        "        return select\n",
        "\n",
        "\n",
        "    def _ucb1(self, step):\n",
        "        # 課題2 はここを正しい物に変える\n",
        "        c = 1.0\n",
        "        n_sum = np.sum(self._n)\n",
        "        # 全ての選択肢を一回は選択しなければならない\n",
        "        if n_sum < len(self._list_action): \n",
        "            return int(n_sum)\n",
        "        #u = #ヒント\n",
        "        idx = np.where(u == max(u))[0] # ヒント\n",
        "        select = random.choice(idx) # ヒント\n",
        "        dummy = 0 # 常に 0 番目を引くダミー変数\n",
        "        select = dummy\n",
        "        return select\n",
        "      \n"
      ],
      "execution_count": null,
      "outputs": []
    },
    {
      "cell_type": "markdown",
      "metadata": {
        "id": "rdbsmlAuB18T"
      },
      "source": [
        "### シミュレーション全体を管理するクラス\n"
      ]
    },
    {
      "cell_type": "code",
      "metadata": {
        "id": "OOtFY1HPEUUc"
      },
      "source": [
        "\"\"\"n本腕バンディットシミュレーションのモジュール\"\"\"\n",
        "\n",
        "class BanditSimulator(object):\n",
        "    \"\"\"指定数でn本腕バンディットをシミュレートするClass.\n",
        "\n",
        "    param\n",
        "    -----\n",
        "    episode(int): default: 1000\n",
        "        実行するエピソード数\n",
        "\n",
        "    attr\n",
        "    ----\n",
        "    _num(int):\n",
        "        実行するエピソード数\n",
        "    _agent(Agent):\n",
        "        バンディットをプレイするエージェント\n",
        "    _bandit(list of Bandit):\n",
        "        バンディットマシーンのリスト\n",
        "    _correct(list of int):\n",
        "        n本腕の中で最も当たり確率が高い腕の選択系列\n",
        "\n",
        "    \"\"\"\n",
        "    def __init__(self, tr=100, n=10000, policy='greedy'):\n",
        "        self._trial = tr\n",
        "        self._num = n\n",
        "        self._agent = Agent(policy)\n",
        "        self._bandit = []\n",
        "        self._correct = np.zeros((tr, n))\n",
        "        self._correct_arm = None\n",
        "        self._select = np.zeros((tr, n))\n",
        "        self._regret = np.zeros((tr, n))\n",
        "    \n",
        "    def add_arm(self, prob=0.5):\n",
        "        \"\"\"指定確率のバンディットマシーンを追加する.\"\"\"\n",
        "        bd = Bandit(prob)\n",
        "        self._bandit.append(bd)\n",
        "        self._agent.add_action(bd.play)\n",
        "\n",
        "    def add_random_n_arm(self, n_arm):\n",
        "        \"\"\"n_arm 個のランダムな当たり確率バンディットマシーンを追加する\"\"\"\n",
        "        for _ in range(n_arm):\n",
        "            self.add_arm(random.random()/1.5)\n",
        "\n",
        "    def run(self):\n",
        "        \"\"\"シミュレーションの実行.\"\"\"\n",
        "        arm_pb = [bd.prob for bd in self._bandit]\n",
        "        self._correct_arm = np.where(arm_pb == np.max(arm_pb))[0]        \n",
        "\n",
        "        time_start = time.time()\n",
        "        print(f\"trial: {self._trial}\", )\n",
        "        for i in range(self._trial):\n",
        "            if i %20 == 0:\n",
        "                print()\n",
        "                print(f\"t: \", end=\"\")\n",
        "            print(f\"{i}, \", end=\"\")\n",
        "            self._agent.reset()\n",
        "            for j in range(self._num):\n",
        "#                 print(f\"s: {j}\")\n",
        "                select, result = self._agent.play(j)\n",
        "                self._correct[i, j] = 1 if select in self._correct_arm else 0\n",
        "                self._select[i, j] = select\n",
        "                self._regret[i, j] = self._calc_regret(i, j)\n",
        "#                 print(f'select arm {select}, result {\"win\" if result == 1 else \"lose\"}')\n",
        "#             self.print_bandit_data()\n",
        "        time_end = time.time()\n",
        "        print()\n",
        "        print(f\"time: {time_end - time_start} (s)\", )\n",
        "\n",
        "        self.print_regret()\n",
        "\n",
        "    def print_bandit_data(self):\n",
        "        \"\"\"各バンディットマシーンのデータを表示する.\"\"\"\n",
        "        for bd in self._bandit:\n",
        "            bd.print_average()\n",
        "\n",
        "    def print_regret(self):\n",
        "        plt.plot(np.arange(self._num), np.mean(self._regret, axis=0))\n",
        "        plt.show()\n",
        "        print(\"final regret: {0:.5f}\".format(np.mean(self._regret, axis=0)[-1]), )\n",
        "        np.mean(self._regret, axis=0)\n",
        "    \n",
        "    def _calc_regret(self, tr, st):\n",
        "        \"\"\"regret の計算\"\"\"\n",
        "        diff = 0\n",
        "        if not int(self._correct[tr,st]):\n",
        "            diff = (self._bandit[self._correct_arm[0]].prob - self._bandit[int(self._select[tr, st])].prob)\n",
        "        pre = 0\n",
        "        if st != 0:\n",
        "            pre =  st - 1        \n",
        "        return self._regret[tr, pre] + diff\n"
      ],
      "execution_count": null,
      "outputs": []
    },
    {
      "cell_type": "markdown",
      "metadata": {
        "id": "hlYxrIsyB7_L"
      },
      "source": [
        "### バンディット問題シミュレーションを行うの関数\n"
      ]
    },
    {
      "cell_type": "code",
      "metadata": {
        "id": "alKWQgaLM1iI"
      },
      "source": [
        "def recreation_arm_bandit(tr=1, num=100, policy='greedy'):\n",
        "    sim = BanditSimulator(tr, num, policy)\n",
        "    p_true = [0.45, 0.5, 0.55, 0.6]\n",
        "    p_copy = cp(p_true)\n",
        "    for i in range(len(p_true)):\n",
        "      index = random.choice(list(range(len(p_copy))))\n",
        "      p_tmp = p_copy.pop(index)\n",
        "      print(f\"arm p: {p_tmp}\")\n",
        "      sim.add_arm(p_tmp)\n",
        "\n",
        "    sim.run()\n"
      ],
      "execution_count": null,
      "outputs": []
    },
    {
      "cell_type": "markdown",
      "metadata": {
        "id": "rxTacCFLYBci"
      },
      "source": [
        "## 実行\n",
        "※ 上記 Agent Class を書き換えて実行する"
      ]
    },
    {
      "cell_type": "code",
      "metadata": {
        "id": "ujSTCKwzlw_y",
        "colab": {
          "base_uri": "https://localhost:8080/",
          "height": 584
        },
        "outputId": "5f54f5c6-e9b4-4d96-9a8c-e6e2e4c97bb5"
      },
      "source": [
        "tr = 200\n",
        "num = 5000\n",
        "recreation_arm_bandit(tr, num, 'e-greedy')"
      ],
      "execution_count": null,
      "outputs": [
        {
          "output_type": "stream",
          "text": [
            "arm p: 0.45\n",
            "arm p: 0.5\n",
            "arm p: 0.55\n",
            "arm p: 0.6\n",
            "trial: 200\n",
            "\n",
            "t: 0, 1, 2, 3, 4, 5, 6, 7, 8, 9, 10, 11, 12, 13, 14, 15, 16, 17, 18, 19, \n",
            "t: 20, 21, 22, 23, 24, 25, 26, 27, 28, 29, 30, 31, 32, 33, 34, 35, 36, 37, 38, 39, \n",
            "t: 40, 41, 42, 43, 44, 45, 46, 47, 48, 49, 50, 51, 52, 53, 54, 55, 56, 57, 58, 59, \n",
            "t: 60, 61, 62, 63, 64, 65, 66, 67, 68, 69, 70, 71, 72, 73, 74, 75, 76, 77, 78, 79, \n",
            "t: 80, 81, 82, 83, 84, 85, 86, 87, 88, 89, 90, 91, 92, 93, 94, 95, 96, 97, 98, 99, \n",
            "t: 100, 101, 102, 103, 104, 105, 106, 107, 108, 109, 110, 111, 112, 113, 114, 115, 116, 117, 118, 119, \n",
            "t: 120, 121, 122, 123, 124, 125, 126, 127, 128, 129, 130, 131, 132, 133, 134, 135, 136, 137, 138, 139, \n",
            "t: 140, 141, 142, 143, 144, 145, 146, 147, 148, 149, 150, 151, 152, 153, 154, 155, 156, 157, 158, 159, \n",
            "t: 160, 161, 162, 163, 164, 165, 166, 167, 168, 169, 170, 171, 172, 173, 174, 175, 176, 177, 178, 179, \n",
            "t: 180, 181, 182, 183, 184, 185, 186, 187, 188, 189, 190, 191, 192, 193, 194, 195, 196, 197, 198, 199, \n",
            "time: 16.9299738407135 (s)\n"
          ],
          "name": "stdout"
        },
        {
          "output_type": "display_data",
          "data": {
            "image/png": "[encoded data removed]",
            "text/plain": [
              "<Figure size 432x288 with 1 Axes>"
            ]
          },
          "metadata": {
            "tags": [],
            "needs_background": "light"
          }
        },
        {
          "output_type": "stream",
          "text": [
            "final regret: 95.62000\n"
          ],
          "name": "stdout"
        }
      ]
    },
    {
      "cell_type": "markdown",
      "metadata": {
        "id": "87JmusOoj8D1"
      },
      "source": [
        "## 課題1\n",
        "softmax 方策を実装する  \n",
        "※ 上記 Agent Class を書き換えてから実行する  \n",
        "※ τ=1 で良いがもっと後悔の度合いがよくなる数値があるならそれでも良い"
      ]
    },
    {
      "cell_type": "code",
      "metadata": {
        "id": "FMeRdhxzkITW",
        "colab": {
          "base_uri": "https://localhost:8080/",
          "height": 510
        },
        "outputId": "6c2d55c4-c4e6-4be7-8ef4-b640d5885ccd"
      },
      "source": [
        "tr = 200\n",
        "num = 5000\n",
        "recreation_arm_bandit(tr, num, 'softmax')"
      ],
      "execution_count": null,
      "outputs": [
        {
          "output_type": "stream",
          "text": [
            "arm p: 0.55\n",
            "arm p: 0.45\n",
            "arm p: 0.5\n",
            "arm p: 0.6\n",
            "trial: 200\n",
            "\n",
            "t: 0, "
          ],
          "name": "stdout"
        },
        {
          "output_type": "error",
          "ename": "TypeError",
          "evalue": "ignored",
          "traceback": [
            "\u001b[0;31m---------------------------------------------------------------------------\u001b[0m",
            "\u001b[0;31mTypeError\u001b[0m                                 Traceback (most recent call last)",
            "\u001b[0;32m<ipython-input-164-f62de8a0266f>\u001b[0m in \u001b[0;36m<module>\u001b[0;34m()\u001b[0m\n\u001b[1;32m      1\u001b[0m \u001b[0mtr\u001b[0m \u001b[0;34m=\u001b[0m \u001b[0;36m200\u001b[0m\u001b[0;34m\u001b[0m\u001b[0;34m\u001b[0m\u001b[0m\n\u001b[1;32m      2\u001b[0m \u001b[0mnum\u001b[0m \u001b[0;34m=\u001b[0m \u001b[0;36m5000\u001b[0m\u001b[0;34m\u001b[0m\u001b[0;34m\u001b[0m\u001b[0m\n\u001b[0;32m----> 3\u001b[0;31m \u001b[0mrecreation_arm_bandit\u001b[0m\u001b[0;34m(\u001b[0m\u001b[0mtr\u001b[0m\u001b[0;34m,\u001b[0m \u001b[0mnum\u001b[0m\u001b[0;34m,\u001b[0m \u001b[0;34m'softmax'\u001b[0m\u001b[0;34m)\u001b[0m\u001b[0;34m\u001b[0m\u001b[0;34m\u001b[0m\u001b[0m\n\u001b[0m",
            "\u001b[0;32m<ipython-input-162-1f5aa7e2497c>\u001b[0m in \u001b[0;36mrecreation_arm_bandit\u001b[0;34m(tr, num, policy)\u001b[0m\n\u001b[1;32m      9\u001b[0m       \u001b[0msim\u001b[0m\u001b[0;34m.\u001b[0m\u001b[0madd_arm\u001b[0m\u001b[0;34m(\u001b[0m\u001b[0mp_tmp\u001b[0m\u001b[0;34m)\u001b[0m\u001b[0;34m\u001b[0m\u001b[0;34m\u001b[0m\u001b[0m\n\u001b[1;32m     10\u001b[0m \u001b[0;34m\u001b[0m\u001b[0m\n\u001b[0;32m---> 11\u001b[0;31m     \u001b[0msim\u001b[0m\u001b[0;34m.\u001b[0m\u001b[0mrun\u001b[0m\u001b[0;34m(\u001b[0m\u001b[0;34m)\u001b[0m\u001b[0;34m\u001b[0m\u001b[0;34m\u001b[0m\u001b[0m\n\u001b[0m",
            "\u001b[0;32m<ipython-input-161-3af0b066173a>\u001b[0m in \u001b[0;36mrun\u001b[0;34m(self)\u001b[0m\n\u001b[1;32m     57\u001b[0m             \u001b[0;32mfor\u001b[0m \u001b[0mj\u001b[0m \u001b[0;32min\u001b[0m \u001b[0mrange\u001b[0m\u001b[0;34m(\u001b[0m\u001b[0mself\u001b[0m\u001b[0;34m.\u001b[0m\u001b[0m_num\u001b[0m\u001b[0;34m)\u001b[0m\u001b[0;34m:\u001b[0m\u001b[0;34m\u001b[0m\u001b[0;34m\u001b[0m\u001b[0m\n\u001b[1;32m     58\u001b[0m \u001b[0;31m#                 print(f\"s: {j}\")\u001b[0m\u001b[0;34m\u001b[0m\u001b[0;34m\u001b[0m\u001b[0;34m\u001b[0m\u001b[0m\n\u001b[0;32m---> 59\u001b[0;31m                 \u001b[0mselect\u001b[0m\u001b[0;34m,\u001b[0m \u001b[0mresult\u001b[0m \u001b[0;34m=\u001b[0m \u001b[0mself\u001b[0m\u001b[0;34m.\u001b[0m\u001b[0m_agent\u001b[0m\u001b[0;34m.\u001b[0m\u001b[0mplay\u001b[0m\u001b[0;34m(\u001b[0m\u001b[0mj\u001b[0m\u001b[0;34m)\u001b[0m\u001b[0;34m\u001b[0m\u001b[0;34m\u001b[0m\u001b[0m\n\u001b[0m\u001b[1;32m     60\u001b[0m                 \u001b[0mself\u001b[0m\u001b[0;34m.\u001b[0m\u001b[0m_correct\u001b[0m\u001b[0;34m[\u001b[0m\u001b[0mi\u001b[0m\u001b[0;34m,\u001b[0m \u001b[0mj\u001b[0m\u001b[0;34m]\u001b[0m \u001b[0;34m=\u001b[0m \u001b[0;36m1\u001b[0m \u001b[0;32mif\u001b[0m \u001b[0mselect\u001b[0m \u001b[0;32min\u001b[0m \u001b[0mself\u001b[0m\u001b[0;34m.\u001b[0m\u001b[0m_correct_arm\u001b[0m \u001b[0;32melse\u001b[0m \u001b[0;36m0\u001b[0m\u001b[0;34m\u001b[0m\u001b[0;34m\u001b[0m\u001b[0m\n\u001b[1;32m     61\u001b[0m                 \u001b[0mself\u001b[0m\u001b[0;34m.\u001b[0m\u001b[0m_select\u001b[0m\u001b[0;34m[\u001b[0m\u001b[0mi\u001b[0m\u001b[0;34m,\u001b[0m \u001b[0mj\u001b[0m\u001b[0;34m]\u001b[0m \u001b[0;34m=\u001b[0m \u001b[0mselect\u001b[0m\u001b[0;34m\u001b[0m\u001b[0;34m\u001b[0m\u001b[0m\n",
            "\u001b[0;32m<ipython-input-160-477b45a6a0ba>\u001b[0m in \u001b[0;36mplay\u001b[0;34m(self, step)\u001b[0m\n\u001b[1;32m     64\u001b[0m     \u001b[0;32mdef\u001b[0m \u001b[0mplay\u001b[0m\u001b[0;34m(\u001b[0m\u001b[0mself\u001b[0m\u001b[0;34m,\u001b[0m \u001b[0mstep\u001b[0m\u001b[0;34m)\u001b[0m\u001b[0;34m:\u001b[0m\u001b[0;34m\u001b[0m\u001b[0;34m\u001b[0m\u001b[0m\n\u001b[1;32m     65\u001b[0m         \u001b[0;34m\"\"\"ポリシーに従い、可能行為を選択・実行する\"\"\"\u001b[0m\u001b[0;34m\u001b[0m\u001b[0;34m\u001b[0m\u001b[0m\n\u001b[0;32m---> 66\u001b[0;31m         \u001b[0mact\u001b[0m \u001b[0;34m=\u001b[0m \u001b[0mself\u001b[0m\u001b[0;34m.\u001b[0m\u001b[0mbehavior\u001b[0m\u001b[0;34m(\u001b[0m\u001b[0mstep\u001b[0m\u001b[0;34m)\u001b[0m\u001b[0;34m\u001b[0m\u001b[0;34m\u001b[0m\u001b[0m\n\u001b[0m\u001b[1;32m     67\u001b[0m         \u001b[0mrwd\u001b[0m \u001b[0;34m=\u001b[0m \u001b[0mself\u001b[0m\u001b[0;34m.\u001b[0m\u001b[0m_list_action\u001b[0m\u001b[0;34m[\u001b[0m\u001b[0mact\u001b[0m\u001b[0;34m]\u001b[0m\u001b[0;34m(\u001b[0m\u001b[0;34m)\u001b[0m\u001b[0;34m\u001b[0m\u001b[0;34m\u001b[0m\u001b[0m\n\u001b[1;32m     68\u001b[0m         \u001b[0mself\u001b[0m\u001b[0;34m.\u001b[0m\u001b[0m_reward\u001b[0m\u001b[0;34m[\u001b[0m\u001b[0mact\u001b[0m\u001b[0;34m]\u001b[0m\u001b[0;34m.\u001b[0m\u001b[0mappend\u001b[0m\u001b[0;34m(\u001b[0m\u001b[0mrwd\u001b[0m\u001b[0;34m)\u001b[0m\u001b[0;34m\u001b[0m\u001b[0;34m\u001b[0m\u001b[0m\n",
            "\u001b[0;32m<ipython-input-160-477b45a6a0ba>\u001b[0m in \u001b[0;36m_softmax\u001b[0;34m(self, step)\u001b[0m\n\u001b[1;32m     94\u001b[0m         \u001b[0;31m# \"ここに正しい確率を計算するコードを追加\" # ヒント\u001b[0m\u001b[0;34m\u001b[0m\u001b[0;34m\u001b[0m\u001b[0;34m\u001b[0m\u001b[0m\n\u001b[1;32m     95\u001b[0m         \u001b[0my\u001b[0m \u001b[0;34m=\u001b[0m \u001b[0mnp\u001b[0m\u001b[0;34m.\u001b[0m\u001b[0mexp\u001b[0m\u001b[0;34m(\u001b[0m\u001b[0mstep\u001b[0m\u001b[0;34m)\u001b[0m\u001b[0;34m/\u001b[0m\u001b[0mnp\u001b[0m\u001b[0;34m.\u001b[0m\u001b[0msum\u001b[0m\u001b[0;34m(\u001b[0m\u001b[0mnp\u001b[0m\u001b[0;34m.\u001b[0m\u001b[0mexp\u001b[0m\u001b[0;34m(\u001b[0m\u001b[0mstep\u001b[0m\u001b[0;34m)\u001b[0m\u001b[0;34m)\u001b[0m\u001b[0;34m\u001b[0m\u001b[0;34m\u001b[0m\u001b[0m\n\u001b[0;32m---> 96\u001b[0;31m         \u001b[0mselect\u001b[0m \u001b[0;34m=\u001b[0m \u001b[0mnp\u001b[0m\u001b[0;34m.\u001b[0m\u001b[0mrandom\u001b[0m\u001b[0;34m.\u001b[0m\u001b[0mchoice\u001b[0m\u001b[0;34m(\u001b[0m\u001b[0mlist\u001b[0m\u001b[0;34m(\u001b[0m\u001b[0mrange\u001b[0m\u001b[0;34m(\u001b[0m\u001b[0mlen\u001b[0m\u001b[0;34m(\u001b[0m\u001b[0mself\u001b[0m\u001b[0;34m.\u001b[0m\u001b[0m_list_action\u001b[0m\u001b[0;34m)\u001b[0m\u001b[0;34m)\u001b[0m\u001b[0;34m)\u001b[0m\u001b[0;34m,\u001b[0m \u001b[0mp\u001b[0m \u001b[0;34m=\u001b[0m \u001b[0my\u001b[0m\u001b[0;34m)\u001b[0m\u001b[0;31m# ヒント\u001b[0m\u001b[0;34m\u001b[0m\u001b[0;34m\u001b[0m\u001b[0m\n\u001b[0m\u001b[1;32m     97\u001b[0m         \u001b[0mdummy\u001b[0m \u001b[0;34m=\u001b[0m \u001b[0;36m0\u001b[0m \u001b[0;31m# 常に 0 番目を引くダミー変数\u001b[0m\u001b[0;34m\u001b[0m\u001b[0;34m\u001b[0m\u001b[0m\n\u001b[1;32m     98\u001b[0m         \u001b[0mselect\u001b[0m \u001b[0;34m=\u001b[0m \u001b[0mdummy\u001b[0m\u001b[0;34m\u001b[0m\u001b[0;34m\u001b[0m\u001b[0m\n",
            "\u001b[0;32mmtrand.pyx\u001b[0m in \u001b[0;36mnumpy.random.mtrand.RandomState.choice\u001b[0;34m()\u001b[0m\n",
            "\u001b[0;31mTypeError\u001b[0m: object of type 'numpy.float64' has no len()"
          ]
        }
      ]
    },
    {
      "cell_type": "markdown",
      "metadata": {
        "id": "z_PV4lYnj_jQ"
      },
      "source": [
        "## 課題2\n",
        "UCB1方策を実装する  \n",
        "※ 上記 Agent Class を書き換えてから実行する  \n",
        "※ c=2 で良いがもっと後悔の度合いがよくなる数値があるならそれでも良い"
      ]
    },
    {
      "cell_type": "code",
      "metadata": {
        "id": "2hfzkfE9kJJp"
      },
      "source": [
        "tr = 200\n",
        "num = 5000\n",
        "recreation_arm_bandit(tr, num, 'ucb1')"
      ],
      "execution_count": null,
      "outputs": []
    }
  ]
}